{
 "cells": [
  {
   "cell_type": "markdown",
   "metadata": {},
   "source": [
    "## Fatores Relevantes \n",
    "As variáveis analisadas foram selecionadas por seu potencial em revelar padrões e insights importantes sobre o comportamento de compra de títulos bancários entre diferentes perfis de clientes. Através da análise dessas variáveis, buscamos identificar fatores chave que influenciam a decisão de compra, permitindo uma segmentação mais precisa e ações direcionadas para aumentar a conversão de clientes em potencial.\n",
    "\n",
    "### Pontos Principais para Analisar.\n",
    "**Relação entre Idade e Compra**: A distribuição de idade para clientes que compraram e não compraram parece seguir um padrão semelhante, mas há uma diferença visível na faixa etária. Clientes que não compraram tendem a se concentrar em uma faixa de idade mais jovem (em torno de 30-40 anos), enquanto a curva dos que compraram é mais ampla, abrangendo uma faixa de idade maior. Ação: Manter a coluna \"Idade\" na análise, pois parece haver uma relação potencial entre a idade e a compra de títulos, que pode ser explorada em mais detalhes.\n",
    "\n",
    "**Relação entre Hipoteca e Compra**: A maioria dos clientes que compraram títulos não possuem hipoteca (código \"0\"), mas há um número significativo de clientes com hipoteca que também compraram. Há uma certa distinção entre os grupos, com uma maior prevalência de compra entre aqueles que não têm hipoteca.\n",
    "\n",
    "**Relação entre Clientes que Devem e Compra**: A grande maioria dos clientes, tanto os que compraram quanto os que não compraram títulos, não são devedores (código \"0\"). Há pouquíssimos casos de clientes devedores, e a diferença entre compra e não compra é mínima.\n",
    "\n",
    "**Relação entre Quantidade de Ligações Feitas e Compra**: Observa-se que há um ponto em que, ao aumentar o número de ligações, a quantidade de conversões começa a diminuir de forma significativa. Esse comportamento pode indicar que, após um certo limite, as ligações adicionais não estão contribuindo para aumentar as vendas, podendo até gerar um efeito negativo.\n",
    "\n",
    "**Relação entre as Variáveis Categóricas e a Compra**: É importante investigar como variáveis categóricas como Profissão, Estado Civil e Formação influenciam o comportamento de compra dos clientes. Isso nos ajudará a identificar perfis específicos de clientes que têm maior probabilidade de realizar uma compra, fornecendo insights valiosos para estratégias de segmentação e marketing."
   ]
  },
  {
   "cell_type": "markdown",
   "metadata": {},
   "source": [
    "### Pontos que Não Vão Ser Explorados\n",
    "**Relação entre Saldo e Conta Corrente**: A distribuição do saldo não apresenta uma distinção clara entre os clientes que compraram e os que não compraram. Ambas as curvas seguem um padrão semelhante, com a maioria dos clientes tendo saldos baixos, e há pouca diferenciação entre os grupos.\n",
    "\n",
    "**Relação entre Clientes que tem Empréstimo e Compra**: A grande maioria dos clientes, tanto os que compraram quanto os que não compraram, não possuem empréstimo. No entanto, entre os que possuem empréstimo (código \"1\"), há uma ligeira redução no número de compras de títulos. Embora o gráfico mostre uma leve diferença, o impacto parece ser menor comparado a outras variáveis. Então por isso, essa variável não vai ser explorada."
   ]
  }
 ],
 "metadata": {
  "language_info": {
   "name": "python"
  }
 },
 "nbformat": 4,
 "nbformat_minor": 2
}
