{
 "cells": [
  {
   "cell_type": "markdown",
   "metadata": {},
   "source": [
    "### Explicação da Produção das Personas\n",
    "As personas foram desenvolvidas com base na Análise Exploratória de Dados (EDA). A compreensão dessas duas personas é crucial para a equipe de marketing, pois permitirá uma abordagem mais precisa na segmentação dos clientes.\n",
    "\n",
    "- Perfil Comprador: Representa os clientes que compram títulos bancários.\n",
    "- Perfil Não Comprador: Refere-se aos clientes que ainda não realizaram a compra.\n",
    "\n",
    "Essas definições ajudarão a equipe a criar estratégias mais eficazes e personalizadas para atender às necessidades de cada grupo, aumentando assim a taxa de conversão de produtos financeiros.\n",
    "\n",
    "\n",
    "\n",
    "## Personas\n",
    "**Persona 1: Perfil Comprador**\n",
    "\n",
    "- Nome: Ana Carvalho\n",
    "- Idade: 35 anos\n",
    "- Estado Civil: Solteira\n",
    "- Formação: Formada em Administração e estudante de Economia.\n",
    "- Profissão: Administradora em uma empresa de médio porte e gosta muito de estudar sobre ações.\n",
    "- Situação Financeira: Sem hipoteca, com uma renda disponível considerável.\n",
    "\n",
    "**Comportamento de Compra**:\n",
    "\n",
    "- Motivações: Busca por segurança financeira e preservação do patrimônio. Interessa-se por produtos de investimento que ofereçam retorno seguro.\n",
    "- Histórico de Compra: Comprou títulos bancários devido à percepção de que esses produtos podem ajudar a diversificar seus investimentos e garantir um futuro financeiro estável.\n",
    "- Interesses: Participa de workshops de educação financeira, está sempre em busca de aprender mais sobre investimentos e finanças pessoais.\n",
    "\n",
    "**Persona 2: Perfil Não Comprador**\n",
    "\n",
    "- Nome: Carlos Silva\n",
    "- Idade: 28 anos\n",
    "- Estado Civil: Casado\n",
    "- Formação: Somente Ensino Fundamental\n",
    "- Profissão: Operário em uma Fábrica de Tecidos\n",
    "- Situação Financeira: Sem hipoteca, porém com uma renda variável e menor estabilidade financeira\n",
    "**Comportamento de Compra**:\n",
    "\n",
    "\n",
    "\n",
    "- Motivações: Embora tenha interesse em investimentos, Carlos tem uma aversão ao risco e prefere manter sua liquidez para emergências. Ele não vê os títulos bancários como uma prioridade no momento.\n",
    "- Histórico de Compra: Não comprou títulos até agora, mesmo tendo potencial, devido à falta de informações claras sobre os benefícios e a sensação de insegurança em comprometer seus recursos.\n",
    "- Interesses: Está em busca de uma maior compreensão sobre finanças pessoais, mas ainda não se sente confiante em investir em produtos financeiros.\n",
    "\n",
    "### Conclusão\n",
    "- A análise das personas é importante, pois ajuda a equipe de marketing a entender melhor o perfil de seus clientes e as suas necessidades. Ao identificar diferentes grupos, a equipe pode criar estratégias mais eficazes e personalizadas para aumentar a taxa de conversão de produtos financeiros, como os títulos bancários.\n",
    "\n",
    "- A compreensão das personas permite à equipe de marketing não apenas direcionar melhor suas campanhas, mas também contribuir para o aumento da satisfação e da confiança dos clientes nos produtos oferecidos. Investir na análise de personas é, portanto, um passo fundamental para o sucesso das estratégias de marketing do banco."
   ]
  }
 ],
 "metadata": {
  "language_info": {
   "name": "python"
  }
 },
 "nbformat": 4,
 "nbformat_minor": 2
}
